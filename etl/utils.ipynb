{
 "cells": [
  {
   "cell_type": "code",
   "execution_count": 7,
   "metadata": {},
   "outputs": [],
   "source": [
    "import os\n",
    "import shutil\n",
    "from pathlib import Path\n",
    "\n",
    "import numpy as np\n",
    "import rasterio as rio\n",
    "import pandas as pd\n",
    "import geopandas as gpd\n",
    "import fiona\n",
    "import matplotlib.pyplot as plt"
   ]
  },
  {
   "cell_type": "code",
   "execution_count": 41,
   "metadata": {},
   "outputs": [],
   "source": [
    "DATA = Path(\"C:/Users/hp/Desktop/datasets/urban-feature-extraction/spacenet/vegas\")\n",
    "MASK_VECTORS = list((DATA / \"geojson_buildings\").iterdir())\n",
    "MASKS_CSV = DATA / \"SN2_buildings_train_AOI_2_Vegas_solutions.csv\""
   ]
  },
  {
   "attachments": {},
   "cell_type": "markdown",
   "metadata": {},
   "source": [
    "### Convert Spacenet Mask Vectors into Masks"
   ]
  },
  {
   "cell_type": "code",
   "execution_count": 70,
   "metadata": {},
   "outputs": [],
   "source": [
    "#Load Raster and Corresponding Mask GeoJSON\n",
    "# 1.Create New Raster With Same Shape and Extent as Base Raster\n",
    "# Clip New Raster using Mask, Change Values to 0 and 1 \n",
    "# or\n",
    "# 2.gdal.Rasterize on Mask Vector and Select Rasterize Options using Corresponding Raster"
   ]
  },
  {
   "attachments": {},
   "cell_type": "markdown",
   "metadata": {},
   "source": [
    "### Use ramp Building Footprint Dataset instead\n",
    "they use building rooftops as footprints instead of base"
   ]
  }
 ],
 "metadata": {
  "kernelspec": {
   "display_name": "ml",
   "language": "python",
   "name": "python3"
  },
  "language_info": {
   "codemirror_mode": {
    "name": "ipython",
    "version": 3
   },
   "file_extension": ".py",
   "mimetype": "text/x-python",
   "name": "python",
   "nbconvert_exporter": "python",
   "pygments_lexer": "ipython3",
   "version": "3.11.3"
  },
  "orig_nbformat": 4
 },
 "nbformat": 4,
 "nbformat_minor": 2
}
