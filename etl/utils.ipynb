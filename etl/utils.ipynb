{
 "cells": [
  {
   "cell_type": "code",
   "execution_count": 1,
   "metadata": {},
   "outputs": [],
   "source": [
    "import os\n",
    "import re\n",
    "from pathlib import Path\n",
    "\n",
    "import requests\n",
    "import boto3\n",
    "\n",
    "import numpy as np\n",
    "import rasterio as rio\n",
    "import matplotlib.pyplot as plt\n",
    "\n",
    "from tqdm import tqdm"
   ]
  },
  {
   "cell_type": "code",
   "execution_count": 2,
   "metadata": {},
   "outputs": [],
   "source": [
    "ROOT = Path(\"C:/Users/hp/Desktop/data-pipeline/data/test\")\n",
    "TEST_URL = \"https://www.learningcontainer.com/sample-zip-files/#\""
   ]
  },
  {
   "cell_type": "code",
   "execution_count": 3,
   "metadata": {},
   "outputs": [],
   "source": [
    "def download_file(url:str, file_path:Path, chunk_size:int = 1024*1024):\n",
    "        with requests.get(url, stream=True) as r:\n",
    "            r.raise_for_status()\n",
    "            total_size = int(r.headers.get('content-length', 0))\n",
    "            with open(file_path, \"wb\") as f, tqdm(total=total_size, unit=\"B\", unit_scale=True, desc=\"Downloading\") as progress_bar:\n",
    "                for chunk in r.iter_content(chunk_size=chunk_size):\n",
    "                    if chunk: \n",
    "                        f.write(chunk)\n",
    "                        progress_bar.update(len(chunk))"
   ]
  },
  {
   "cell_type": "code",
   "execution_count": 5,
   "metadata": {},
   "outputs": [
    {
     "name": "stdout",
     "output_type": "stream",
     "text": [
      "Folder: /\n",
      "Folder: AOIs/\n",
      "Folder: Hosted-Datasets/\n",
      "Folder: SpaceNet_Off-Nadir_Dataset/\n",
      "Folder: spacenet-model-weights/\n",
      "Folder: spacenet-stac/\n",
      "Folder: spacenet/\n"
     ]
    }
   ],
   "source": [
    "s3 = boto3.client(\"s3\")\n",
    "bucket_name = \"spacenet-dataset\"\n",
    "response = s3.list_objects_v2(Bucket=bucket_name, Delimiter = '/')\n",
    "\n",
    "for prefix in response.get(\"CommonPrefixes\", []):\n",
    "    folder_name = prefix[\"Prefix\"]\n",
    "    print(f\"Folder: {folder_name}\")"
   ]
  },
  {
   "cell_type": "code",
   "execution_count": null,
   "metadata": {},
   "outputs": [],
   "source": []
  }
 ],
 "metadata": {
  "kernelspec": {
   "display_name": "ml",
   "language": "python",
   "name": "python3"
  },
  "language_info": {
   "codemirror_mode": {
    "name": "ipython",
    "version": 3
   },
   "file_extension": ".py",
   "mimetype": "text/x-python",
   "name": "python",
   "nbconvert_exporter": "python",
   "pygments_lexer": "ipython3",
   "version": "3.11.3"
  },
  "orig_nbformat": 4
 },
 "nbformat": 4,
 "nbformat_minor": 2
}
