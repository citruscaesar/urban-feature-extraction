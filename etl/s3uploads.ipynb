{
 "cells": [
  {
   "cell_type": "code",
   "execution_count": 40,
   "metadata": {},
   "outputs": [],
   "source": [
    "import os\n",
    "from pathlib import Path\n",
    "\n",
    "import boto3\n",
    "from botocore.config import Config\n",
    "\n",
    "from tqdm import tqdm"
   ]
  },
  {
   "cell_type": "code",
   "execution_count": 34,
   "metadata": {},
   "outputs": [],
   "source": [
    "DATA = Path(\"/media/sambhav/30AC4696AC46568E/datasets/urban-feature-extraction/inria\")\n",
    "#DATA = Path(\"C:/Users/hp/Desktop/datasets/urban-feature-extraction/inria\")\n",
    "file_names = [x.name for x in (DATA / \"masks\").glob(\"*.jpg\")]"
   ]
  },
  {
   "cell_type": "code",
   "execution_count": 28,
   "metadata": {},
   "outputs": [],
   "source": [
    "#os.environ[\"AWS_SHARED_CREDENTIALS_FILE\"] = (Path.home() / \".aws\" / \"credentials\").as_posix()\n",
    "#s3resource = boto3.resource(\"s3\", \n",
    "                            #endpoint_url = \"https://usc1.contabostorage.com\")\n",
    "#bucket = s3resource.Bucket(\"building-footprints-dataset\")\n",
    "#bucket.create();\n",
    "#for file_obj in bucket.objects.all():\n",
    "    #print(file_obj.key)\n",
    "    #break"
   ]
  },
  {
   "cell_type": "code",
   "execution_count": 29,
   "metadata": {},
   "outputs": [
    {
     "name": "stdout",
     "output_type": "stream",
     "text": [
      "building-footprints-dataset\n",
      "datasets\n"
     ]
    }
   ],
   "source": [
    "#for bucket in s3resource.buckets.all():\n",
    "    #print(bucket.name)"
   ]
  },
  {
   "cell_type": "code",
   "execution_count": 36,
   "metadata": {},
   "outputs": [],
   "source": [
    "class DatasetUploader():\n",
    "    def __init__(self, bucket_name):\n",
    "        self.init_boto3()\n",
    "        self.s3resource = boto3.resource('s3',\n",
    "                          endpoint_url = \"https://usc1.contabostorage.com\")\n",
    "\n",
    "        self.bucket = self.s3resource.Bucket(bucket_name)\n",
    "\n",
    "        self.prefix = {\n",
    "            \"train_image\": \"labelled/patches/images\",\n",
    "            \"train_mask\": \"labelled/patches/masks\",\n",
    "\n",
    "            \"test_image\": \"labelled/scenes/images\",\n",
    "            \"test_mask\": \"labelled/scenes/masks\",\n",
    "        }\n",
    "    \n",
    "    def init_boto3(self, aws_dir = None):\n",
    "        if not aws_dir: \n",
    "            aws_dir = (Path.home() / \".aws\")\n",
    "        os.environ[\"AWS_SHARED_CREDENTIALS_FILE\"] = (aws_dir / \"credentials\").as_posix()\n",
    "    \n",
    "    def list_files_in_bucket(self):\n",
    "        for file_obj in self.bucket.objects.all():\n",
    "            print(file_obj.key)\n",
    "    \n",
    "    def upload_patch(self, patch_path:Path, prefix:str):\n",
    "        assert patch_path.exists() and patch_path.is_file()\n",
    "\n",
    "        patch_key = (Path(prefix) / patch_path.name).as_posix()\n",
    "        self.bucket.Object(patch_key).upload_file(patch_path)\n",
    "        #print(f\"Uploaded to {self.bucket.name}/{patch_key}\")\n",
    "    \n",
    "    def upload_train_pair(self, file_name, image_dir, mask_dir):\n",
    "        self.upload_patch(\n",
    "            patch_path = (image_dir / file_name),\n",
    "            prefix = self.prefix[\"train_image\"]\n",
    "        )\n",
    "        self.upload_patch(\n",
    "            patch_path = (mask_dir / file_name),\n",
    "            prefix = self.prefix[\"train_mask\"]\n",
    "        )\n",
    "\n",
    "    def upload_test_pair(self, file_name, image_dir, mask_dir):\n",
    "        self.upload_patch(\n",
    "            patch_path = (image_dir / file_name),\n",
    "            prefix = self.prefix[\"test_image\"]\n",
    "        )\n",
    "        self.upload_patch(\n",
    "            patch_path = (mask_dir / file_name),\n",
    "            prefix = self.prefix[\"test_mask\"]\n",
    "        )   "
   ]
  },
  {
   "cell_type": "code",
   "execution_count": 37,
   "metadata": {},
   "outputs": [],
   "source": [
    "uploader = DatasetUploader('building-footprints-dataset')"
   ]
  },
  {
   "cell_type": "code",
   "execution_count": 41,
   "metadata": {},
   "outputs": [
    {
     "name": "stderr",
     "output_type": "stream",
     "text": [
      "  0%|          | 0/5 [00:00<?, ?it/s]"
     ]
    },
    {
     "name": "stdout",
     "output_type": "stream",
     "text": [
      "Uploaded to building-footprints-dataset/labelled/patches/images/5e0bf577-7daa-4877-93bd-2d82642b3002.jpg\n"
     ]
    },
    {
     "name": "stderr",
     "output_type": "stream",
     "text": [
      " 20%|██        | 1/5 [00:08<00:32,  8.16s/it]"
     ]
    },
    {
     "name": "stdout",
     "output_type": "stream",
     "text": [
      "Uploaded to building-footprints-dataset/labelled/patches/masks/5e0bf577-7daa-4877-93bd-2d82642b3002.jpg\n",
      "Uploaded to building-footprints-dataset/labelled/patches/images/5e0f5590-8ce5-4d2a-9300-59e0b842d380.jpg\n"
     ]
    },
    {
     "name": "stderr",
     "output_type": "stream",
     "text": [
      " 40%|████      | 2/5 [00:11<00:16,  5.47s/it]"
     ]
    },
    {
     "name": "stdout",
     "output_type": "stream",
     "text": [
      "Uploaded to building-footprints-dataset/labelled/patches/masks/5e0f5590-8ce5-4d2a-9300-59e0b842d380.jpg\n",
      "Uploaded to building-footprints-dataset/labelled/patches/images/5e102195-1c0d-4561-97db-c7d973f48627.jpg\n"
     ]
    },
    {
     "name": "stderr",
     "output_type": "stream",
     "text": [
      " 60%|██████    | 3/5 [00:15<00:09,  4.89s/it]"
     ]
    },
    {
     "name": "stdout",
     "output_type": "stream",
     "text": [
      "Uploaded to building-footprints-dataset/labelled/patches/masks/5e102195-1c0d-4561-97db-c7d973f48627.jpg\n",
      "Uploaded to building-footprints-dataset/labelled/patches/images/5e11044e-2eee-4059-9e41-5e310b7a1606.jpg\n"
     ]
    },
    {
     "name": "stderr",
     "output_type": "stream",
     "text": [
      " 80%|████████  | 4/5 [00:19<00:04,  4.17s/it]"
     ]
    },
    {
     "name": "stdout",
     "output_type": "stream",
     "text": [
      "Uploaded to building-footprints-dataset/labelled/patches/masks/5e11044e-2eee-4059-9e41-5e310b7a1606.jpg\n",
      "Uploaded to building-footprints-dataset/labelled/patches/images/b66ddb5f-a980-4997-bbb0-5c13502915f1.jpg\n"
     ]
    },
    {
     "name": "stderr",
     "output_type": "stream",
     "text": [
      "100%|██████████| 5/5 [00:21<00:00,  4.38s/it]"
     ]
    },
    {
     "name": "stdout",
     "output_type": "stream",
     "text": [
      "Uploaded to building-footprints-dataset/labelled/patches/masks/b66ddb5f-a980-4997-bbb0-5c13502915f1.jpg\n"
     ]
    },
    {
     "name": "stderr",
     "output_type": "stream",
     "text": [
      "\n"
     ]
    }
   ],
   "source": [
    "for file_name in tqdm(file_names[50:55]):\n",
    "    uploader.upload_train_pair(\n",
    "        file_name=file_name,\n",
    "        image_dir=(DATA/\"images\"),\n",
    "        mask_dir=(DATA/\"masks\")\n",
    "    )"
   ]
  }
 ],
 "metadata": {
  "kernelspec": {
   "display_name": "ml",
   "language": "python",
   "name": "python3"
  },
  "language_info": {
   "codemirror_mode": {
    "name": "ipython",
    "version": 3
   },
   "file_extension": ".py",
   "mimetype": "text/x-python",
   "name": "python",
   "nbconvert_exporter": "python",
   "pygments_lexer": "ipython3",
   "version": "3.9.15"
  },
  "orig_nbformat": 4
 },
 "nbformat": 4,
 "nbformat_minor": 2
}
