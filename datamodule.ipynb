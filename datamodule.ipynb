{
 "cells": [
  {
   "cell_type": "code",
   "execution_count": 1,
   "metadata": {},
   "outputs": [
    {
     "name": "stdout",
     "output_type": "stream",
     "text": [
      "cuda\n"
     ]
    }
   ],
   "source": [
    "from pathlib import Path\n",
    "import numpy as np\n",
    "import pandas as pd\n",
    "import matplotlib.pyplot as plt\n",
    "import imageio.v3 as iio\n",
    "\n",
    "import torch\n",
    "DEVICE = torch.device(\"cuda\" if torch.cuda.is_available() else \"cpu\")\n",
    "print(DEVICE)\n",
    "\n",
    "import torchdata.datapipes as dp \n",
    "from torchdata.datapipes import functional_datapipe\n",
    "from torchdata.datapipes.iter import IterDataPipe\n",
    "\n",
    "import pytorch_lightning as pl"
   ]
  },
  {
   "cell_type": "code",
   "execution_count": 2,
   "metadata": {},
   "outputs": [],
   "source": [
    "DATA = Path(\"/media/sambhav/30AC4696AC46568E/datasets/building-footprints-dataset\")\n",
    "#DATA = Path(\"C:/Users/hp/Desktop/datasets/building-footprints-dataset\")\n",
    "\n",
    "TRAIN_DATA = DATA / \"labelled\" / \"patches\"\n",
    "TRAIN_IMAGES = TRAIN_DATA / \"images\"\n",
    "TRAIN_MASKS = TRAIN_DATA / \"masks\"\n",
    "TRAIN_CATALOG = DATA / \"labelled\" / \"metadata\" / \"patches.csv\"\n",
    "\n",
    "TEST_DATA = DATA / \"labelled\" / \"scenes\"\n",
    "TEST_IMAGES = TEST_DATA / \"images\"\n",
    "TEST_MASKS = TEST_DATA / \"masks\""
   ]
  },
  {
   "cell_type": "code",
   "execution_count": 3,
   "metadata": {},
   "outputs": [],
   "source": [
    "image_pipe = dp.iter.FileLister([TRAIN_IMAGES], non_deterministic=False)\n",
    "mask_pipe =  dp.iter.FileLister([TRAIN_MASKS], non_deterministic=False)"
   ]
  },
  {
   "cell_type": "code",
   "execution_count": 4,
   "metadata": {},
   "outputs": [
    {
     "name": "stdout",
     "output_type": "stream",
     "text": [
      "/media/sambhav/30AC4696AC46568E/datasets/building-footprints-dataset/labelled/patches/images/0000abf3-eb24-458e-b248-41016d2c25f8.jpg\n",
      "/media/sambhav/30AC4696AC46568E/datasets/building-footprints-dataset/labelled/patches/masks/0000abf3-eb24-458e-b248-41016d2c25f8.jpg\n"
     ]
    }
   ],
   "source": [
    "print(next(iter(image_pipe)))\n",
    "print(next(iter(mask_pipe)))"
   ]
  },
  {
   "cell_type": "code",
   "execution_count": 5,
   "metadata": {},
   "outputs": [],
   "source": [
    "def get_filename(file_path : str) -> str:\n",
    "    return Path(file_path).name\n",
    "\n",
    "train_pipe = dp.iter.IterKeyZipper(source_datapipe = image_pipe,\n",
    "                                   ref_datapipe = mask_pipe,\n",
    "                                   key_fn = get_filename,\n",
    "                                   ref_key_fn = get_filename,\n",
    "                                   keep_key = False)"
   ]
  },
  {
   "cell_type": "code",
   "execution_count": 6,
   "metadata": {},
   "outputs": [
    {
     "data": {
      "text/plain": [
       "('/media/sambhav/30AC4696AC46568E/datasets/building-footprints-dataset/labelled/patches/images/0000abf3-eb24-458e-b248-41016d2c25f8.jpg',\n",
       " '/media/sambhav/30AC4696AC46568E/datasets/building-footprints-dataset/labelled/patches/masks/0000abf3-eb24-458e-b248-41016d2c25f8.jpg')"
      ]
     },
     "execution_count": 6,
     "metadata": {},
     "output_type": "execute_result"
    }
   ],
   "source": [
    "next(iter(train_pipe))"
   ]
  },
  {
   "cell_type": "code",
   "execution_count": 7,
   "metadata": {},
   "outputs": [
    {
     "data": {
      "text/plain": [
       "'/media/sambhav/30AC4696AC46568E/datasets/building-footprints-dataset/labelled/metadata/patches.csv'"
      ]
     },
     "execution_count": 7,
     "metadata": {},
     "output_type": "execute_result"
    }
   ],
   "source": [
    "TRAIN_CATALOG.as_posix()"
   ]
  },
  {
   "cell_type": "code",
   "execution_count": 8,
   "metadata": {},
   "outputs": [],
   "source": [
    "@functional_datapipe(\"get_bucket_url_pair\")\n",
    "class GetBucketURLPair(IterDataPipe):\n",
    "    def __init__(self, source_datapipe: IterDataPipe, image_prefix:Path , mask_prefix:Path):\n",
    "        self.source_datapipe = source_datapipe\n",
    "        self.image_prefix = image_prefix\n",
    "        self.mask_prefix = mask_prefix\n",
    "\n",
    "    def __iter__(self):\n",
    "        for file_name, dataset_name in self.source_datapipe:\n",
    "            image_path = self.image_prefix / file_name \n",
    "            mask_path = self.mask_prefix / file_name\n",
    "            yield (image_path, mask_path, dataset_name)"
   ]
  },
  {
   "cell_type": "code",
   "execution_count": null,
   "metadata": {},
   "outputs": [],
   "source": [
    "#read_csv -> parse_csv -> image, mask -> get_transformed_image, mask"
   ]
  },
  {
   "cell_type": "code",
   "execution_count": 39,
   "metadata": {},
   "outputs": [
    {
     "data": {
      "text/plain": [
       "'3fb79bc7-c7d4-45dd-8e4a-ac0f9d353ffd.jpg'"
      ]
     },
     "execution_count": 39,
     "metadata": {},
     "output_type": "execute_result"
    }
   ],
   "source": [
    "catalog = dp.iter.IterableWrapper([TRAIN_CATALOG.as_posix()])\n",
    "catalog = catalog.open_files().parse_csv(skip_lines = 1)\n",
    "\n",
    "next(iter(catalog))\n",
    "##catalog = dp.iter.FileOpener()"
   ]
  },
  {
   "cell_type": "code",
   "execution_count": 20,
   "metadata": {},
   "outputs": [
    {
     "ename": "IsADirectoryError",
     "evalue": "[Errno 21] Is a directory: '/'",
     "output_type": "error",
     "traceback": [
      "\u001b[0;31m---------------------------------------------------------------------------\u001b[0m",
      "\u001b[0;31mIsADirectoryError\u001b[0m                         Traceback (most recent call last)",
      "Cell \u001b[0;32mIn[20], line 1\u001b[0m\n\u001b[0;32m----> 1\u001b[0m \u001b[39mnext\u001b[39;49m(\u001b[39miter\u001b[39;49m(catalog))\n",
      "File \u001b[0;32m~/bin/anaconda3/envs/ml/lib/python3.11/site-packages/torch/utils/data/datapipes/_hook_iterator.py:173\u001b[0m, in \u001b[0;36mhook_iterator.<locals>.wrap_generator\u001b[0;34m(*args, **kwargs)\u001b[0m\n\u001b[1;32m    171\u001b[0m         response \u001b[39m=\u001b[39m gen\u001b[39m.\u001b[39msend(\u001b[39mNone\u001b[39;00m)\n\u001b[1;32m    172\u001b[0m \u001b[39melse\u001b[39;00m:\n\u001b[0;32m--> 173\u001b[0m     response \u001b[39m=\u001b[39m gen\u001b[39m.\u001b[39msend(\u001b[39mNone\u001b[39;00m)\n\u001b[1;32m    175\u001b[0m \u001b[39mwhile\u001b[39;00m \u001b[39mTrue\u001b[39;00m:\n\u001b[1;32m    176\u001b[0m     datapipe\u001b[39m.\u001b[39m_number_of_samples_yielded \u001b[39m+\u001b[39m\u001b[39m=\u001b[39m \u001b[39m1\u001b[39m\n",
      "File \u001b[0;32m~/bin/anaconda3/envs/ml/lib/python3.11/site-packages/torch/utils/data/datapipes/iter/fileopener.py:67\u001b[0m, in \u001b[0;36mFileOpenerIterDataPipe.__iter__\u001b[0;34m(self)\u001b[0m\n\u001b[1;32m     66\u001b[0m \u001b[39mdef\u001b[39;00m \u001b[39m__iter__\u001b[39m(\u001b[39mself\u001b[39m):\n\u001b[0;32m---> 67\u001b[0m     \u001b[39myield from\u001b[39;00m get_file_binaries_from_pathnames(\u001b[39mself\u001b[39m\u001b[39m.\u001b[39mdatapipe, \u001b[39mself\u001b[39m\u001b[39m.\u001b[39mmode, \u001b[39mself\u001b[39m\u001b[39m.\u001b[39mencoding)\n",
      "File \u001b[0;32m~/bin/anaconda3/envs/ml/lib/python3.11/site-packages/torch/utils/data/datapipes/utils/common.py:214\u001b[0m, in \u001b[0;36mget_file_binaries_from_pathnames\u001b[0;34m(pathnames, mode, encoding)\u001b[0m\n\u001b[1;32m    211\u001b[0m \u001b[39mif\u001b[39;00m \u001b[39mnot\u001b[39;00m \u001b[39misinstance\u001b[39m(pathname, \u001b[39mstr\u001b[39m):\n\u001b[1;32m    212\u001b[0m     \u001b[39mraise\u001b[39;00m \u001b[39mTypeError\u001b[39;00m(\u001b[39m\"\u001b[39m\u001b[39mExpected string type for pathname, but got \u001b[39m\u001b[39m{}\u001b[39;00m\u001b[39m\"\u001b[39m\n\u001b[1;32m    213\u001b[0m                     \u001b[39m.\u001b[39mformat(\u001b[39mtype\u001b[39m(pathname)))\n\u001b[0;32m--> 214\u001b[0m \u001b[39myield\u001b[39;00m pathname, StreamWrapper(\u001b[39mopen\u001b[39;49m(pathname, mode, encoding\u001b[39m=\u001b[39;49mencoding))\n",
      "\u001b[0;31mIsADirectoryError\u001b[0m: [Errno 21] Is a directory: '/'"
     ]
    }
   ],
   "source": [
    "next(iter(catalog))"
   ]
  },
  {
   "cell_type": "code",
   "execution_count": null,
   "metadata": {},
   "outputs": [],
   "source": []
  }
 ],
 "metadata": {
  "kernelspec": {
   "display_name": "ml",
   "language": "python",
   "name": "python3"
  },
  "language_info": {
   "codemirror_mode": {
    "name": "ipython",
    "version": 3
   },
   "file_extension": ".py",
   "mimetype": "text/x-python",
   "name": "python",
   "nbconvert_exporter": "python",
   "pygments_lexer": "ipython3",
   "version": "3.11.4"
  },
  "orig_nbformat": 4
 },
 "nbformat": 4,
 "nbformat_minor": 2
}
